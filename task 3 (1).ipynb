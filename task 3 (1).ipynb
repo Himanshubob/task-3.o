{
 "cells": [
  {
   "cell_type": "markdown",
   "id": "8b079ae1",
   "metadata": {},
   "source": [
    "# Q1. Create a dictionary called fruits with the following key-value pairs:\"apple\": 0.75\"banana\": 1.25\"orange\": 0.90Then, print out the price of a banana."
   ]
  },
  {
   "cell_type": "code",
   "execution_count": 2,
   "id": "5fa2058b",
   "metadata": {},
   "outputs": [
    {
     "name": "stdout",
     "output_type": "stream",
     "text": [
      "1.25\n"
     ]
    }
   ],
   "source": [
    "d={\"apple\": 0.75,\n",
    "\"banana\": 1.25,\n",
    "\"orange\": 0.90}\n",
    "print(d['banana'])"
   ]
  },
  {
   "cell_type": "markdown",
   "id": "4c6a555d",
   "metadata": {},
   "source": [
    "# Q2. Create an empty dictionary called ages. Add the following key-value pairs to the dictionary:\"Alice\": 30\"Bob\": 25\"Charlie\": 35Then, print out the age of Charlie."
   ]
  },
  {
   "cell_type": "code",
   "execution_count": 4,
   "id": "38e7b9f5",
   "metadata": {},
   "outputs": [
    {
     "name": "stdout",
     "output_type": "stream",
     "text": [
      "{'Alice': 30, 'bob': 25, 'charlie': 35}\n"
     ]
    }
   ],
   "source": [
    "d={}\n",
    "d['Alice']=30\n",
    "d['bob']=25\n",
    "d['charlie']=35\n",
    "print(d)"
   ]
  },
  {
   "cell_type": "markdown",
   "id": "f454801c",
   "metadata": {},
   "source": [
    "# Q3. Write a function called word_count(text) that takes a string as input and returns a dictionary where each key is a word in the text and its value is the number of times that word appears in the text. For example, word_count(\"hello world hello\") should return {\"hello\": 2, \"world\": 1}."
   ]
  },
  {
   "cell_type": "code",
   "execution_count": 7,
   "id": "ae337824",
   "metadata": {},
   "outputs": [
    {
     "name": "stdout",
     "output_type": "stream",
     "text": [
      "{'hello': 2, 'word': 1}\n"
     ]
    }
   ],
   "source": [
    "def word_count(text):\n",
    "    words=text.lower().split()\n",
    "    counts={}\n",
    "    for word in words:\n",
    "        if word in counts:\n",
    "            counts[word]+=1\n",
    "        else:\n",
    "            counts[word]=1\n",
    "            \n",
    "    return counts\n",
    "text=\"hello word hello\"\n",
    "counts=word_count(text)\n",
    "print(counts)\n",
    "    "
   ]
  },
  {
   "cell_type": "markdown",
   "id": "8cc4a0a5",
   "metadata": {},
   "source": [
    "# Q4. Create a dictionary called phone_book with the following key-value pairs:\"Alice\": \"555-1234\"\"Bob\": \"555-5678\"\"Charlie\": \"555-9012\"Then, prompt the user to enter a name and print out the corresponding phone number. If the name is not in the phone book, print out a message saying that the name was not found."
   ]
  },
  {
   "cell_type": "code",
   "execution_count": 8,
   "id": "b31f1c10",
   "metadata": {},
   "outputs": [
    {
     "name": "stdout",
     "output_type": "stream",
     "text": [
      "enter the name==Bob\n",
      "Bob s phone number 555-5678\n"
     ]
    }
   ],
   "source": [
    "phone_book={\"Alice\": \"555-1234\",\n",
    "\"Bob\": \"555-5678\",\n",
    "\"Charlie\": \"555-9012\"}\n",
    "name=input(\"enter the name==\")\n",
    "if name in phone_book:\n",
    "    phone_number=phone_book[name]\n",
    "    print(name,\"s phone number\",phone_number)\n",
    "else:\n",
    "    print(name,\"this name is not mach in the phone book\")"
   ]
  },
  {
   "cell_type": "markdown",
   "id": "a0656458",
   "metadata": {},
   "source": [
    "# Q5. Write a program that prompts the user to enter a number between 1 and 10. If the number is less than 5, print out \"Too low!\", otherwise print out \"Too high!\"."
   ]
  },
  {
   "cell_type": "code",
   "execution_count": 9,
   "id": "21c4e6dc",
   "metadata": {},
   "outputs": [
    {
     "name": "stdout",
     "output_type": "stream",
     "text": [
      "enter the number b/w 1 to 105\n",
      "Too low !\n"
     ]
    }
   ],
   "source": [
    "n=int(input(\"enter the number b/w 1 to 10\"))\n",
    "if (n>5):\n",
    "    print(\"Too high !\")\n",
    "else:\n",
    "    print(\"Too low !\")"
   ]
  },
  {
   "cell_type": "markdown",
   "id": "fff60970",
   "metadata": {},
   "source": [
    "# Q6. Write a program that prompts the user to enter a password. If the password is \"password123\", print out \"Access granted\", otherwise print out \"Access denied\"."
   ]
  },
  {
   "cell_type": "code",
   "execution_count": 10,
   "id": "56840743",
   "metadata": {},
   "outputs": [
    {
     "name": "stdout",
     "output_type": "stream",
     "text": [
      "enter the password:--password123\n",
      "Access granted\n"
     ]
    }
   ],
   "source": [
    "password=input(\"enter the password:--\")\n",
    "if(password==\"password123\"):\n",
    "    print(\"Access granted\")\n",
    "else:\n",
    "    print(\"Access denied\")"
   ]
  },
  {
   "cell_type": "markdown",
   "id": "f15e5bee",
   "metadata": {},
   "source": [
    "# Q7. Write a program that prompts the user to enter a positive integer. Then, use a loop to print out all the odd numbers from 1 to that integer."
   ]
  },
  {
   "cell_type": "code",
   "execution_count": 13,
   "id": "4682661b",
   "metadata": {},
   "outputs": [
    {
     "name": "stdout",
     "output_type": "stream",
     "text": [
      "enter the number is __17\n",
      "1\n",
      "3\n",
      "5\n",
      "7\n",
      "9\n",
      "11\n",
      "13\n",
      "15\n"
     ]
    }
   ],
   "source": [
    "n=int(input(\"enter the number is __\"))\n",
    "for i in range(n):\n",
    "    if(i%2==0):\n",
    "        continue\n",
    "    print(i)"
   ]
  },
  {
   "cell_type": "markdown",
   "id": "079881bd",
   "metadata": {},
   "source": [
    "# Q8. Write a program that generates a random number between 1 and 100 and then prompts the user to guess the number. If the user's guess is too low, print out \"Too low!\", if the guess is too high, print out \"Too high!\", and if the guess is correct, print out \"You win!\"."
   ]
  },
  {
   "cell_type": "code",
   "execution_count": 1,
   "id": "c212e4dc",
   "metadata": {},
   "outputs": [
    {
     "name": "stdout",
     "output_type": "stream",
     "text": [
      "enter the number b/w 1 to 100  --56\n",
      "too high !\n",
      "guess again:56\n",
      "too high !\n",
      "guess again:67\n",
      "too high !\n",
      "guess again:23\n",
      "too high !\n",
      "guess again:1\n",
      "too low!\n",
      "guess again:2\n",
      "too low!\n",
      "guess again:4\n",
      "too low!\n",
      "guess again:67\n",
      "too high !\n",
      "guess again:89\n",
      "too high !\n",
      "guess again:68\n",
      "too high !\n",
      "guess again:54\n",
      "too high !\n",
      "guess again:0-\n"
     ]
    },
    {
     "ename": "ValueError",
     "evalue": "invalid literal for int() with base 10: '0-'",
     "output_type": "error",
     "traceback": [
      "\u001b[1;31m---------------------------------------------------------------------------\u001b[0m",
      "\u001b[1;31mValueError\u001b[0m                                Traceback (most recent call last)",
      "Cell \u001b[1;32mIn[1], line 9\u001b[0m\n\u001b[0;32m      7\u001b[0m     \u001b[38;5;28;01melse\u001b[39;00m:\n\u001b[0;32m      8\u001b[0m         \u001b[38;5;28mprint\u001b[39m(\u001b[38;5;124m\"\u001b[39m\u001b[38;5;124mtoo high !\u001b[39m\u001b[38;5;124m\"\u001b[39m)\n\u001b[1;32m----> 9\u001b[0m     gusess\u001b[38;5;241m=\u001b[39m\u001b[38;5;28;43mint\u001b[39;49m\u001b[43m(\u001b[49m\u001b[38;5;28;43minput\u001b[39;49m\u001b[43m(\u001b[49m\u001b[38;5;124;43m\"\u001b[39;49m\u001b[38;5;124;43mguess again:\u001b[39;49m\u001b[38;5;124;43m\"\u001b[39;49m\u001b[43m)\u001b[49m\u001b[43m)\u001b[49m\n\u001b[0;32m     10\u001b[0m \u001b[38;5;28mprint\u001b[39m(\u001b[38;5;124m\"\u001b[39m\u001b[38;5;124myou win !\u001b[39m\u001b[38;5;124m\"\u001b[39m)\n",
      "\u001b[1;31mValueError\u001b[0m: invalid literal for int() with base 10: '0-'"
     ]
    }
   ],
   "source": [
    "import random\n",
    "secret_number=random.randint(1,100)\n",
    "gusess=int(input(\"enter the number b/w 1 to 100  --\"))\n",
    "while gusess!=secret_number:\n",
    "    if gusess<secret_number:\n",
    "        print(\"too low!\")\n",
    "    else:\n",
    "        print(\"too high !\")\n",
    "    gusess=int(input(\"guess again:\"))\n",
    "print(\"you win !\")"
   ]
  },
  {
   "cell_type": "markdown",
   "id": "3f983987",
   "metadata": {},
   "source": [
    "# Q9. Write a program that generates a random number between 1 and 10 and then prompts the user to guess the number. The user has three attempts to guess the number. If the user guesses correctly within three attempts, print out \"You win!\", otherwise print out \"You lose!\"."
   ]
  },
  {
   "cell_type": "code",
   "execution_count": 2,
   "id": "e9400a50",
   "metadata": {},
   "outputs": [
    {
     "name": "stdout",
     "output_type": "stream",
     "text": [
      "enter the number b/w 1 to 36\n",
      "tow high !\n",
      "enter the number b/w 1 to 36\n",
      "tow high !\n",
      "enter the number b/w 1 to 36\n",
      "tow high !\n",
      " you lose !\n"
     ]
    }
   ],
   "source": [
    "import random \n",
    "secret_number=random.randint(1,10)\n",
    "attempt=3\n",
    "while attempt>0:\n",
    "    guess=int(input(\"enter the number b/w 1 to 3\"))\n",
    "    if guess==secret_number:\n",
    "        print( \"you win\")\n",
    "        break\n",
    "    elif guess<secret_number:\n",
    "        print(\"too low !\")\n",
    "    else :\n",
    "        print(\"tow high !\")\n",
    "    attempt-=1\n",
    "if attempt==0:\n",
    "    print(\" you lose !\")"
   ]
  },
  {
   "cell_type": "markdown",
   "id": "c9477fa5",
   "metadata": {},
   "source": [
    "# Q10. Write a program that prompts the user to enter their age and then prints out whether they are a child (age 0-12), a teenager (age 13-19), an adult (age 20-59), or a senior (age 60+)"
   ]
  },
  {
   "cell_type": "code",
   "execution_count": 3,
   "id": "932b337b",
   "metadata": {},
   "outputs": [
    {
     "name": "stdout",
     "output_type": "stream",
     "text": [
      "enter the age :_67\n",
      "you are  senior\n"
     ]
    }
   ],
   "source": [
    "n=int(input(\"enter the age :_\"))\n",
    "if (n>0 and n<=12):\n",
    "    print(\"you are child:\")\n",
    "elif (n>13 and n<=19):\n",
    "    print( \"you are teenager\")\n",
    "elif( n>20 and n<=59):\n",
    "    print(\"you are adult\")\n",
    "else:\n",
    "    print( \"you are  senior\")"
   ]
  },
  {
   "cell_type": "code",
   "execution_count": null,
   "id": "035de376",
   "metadata": {},
   "outputs": [],
   "source": []
  }
 ],
 "metadata": {
  "kernelspec": {
   "display_name": "Python 3 (ipykernel)",
   "language": "python",
   "name": "python3"
  },
  "language_info": {
   "codemirror_mode": {
    "name": "ipython",
    "version": 3
   },
   "file_extension": ".py",
   "mimetype": "text/x-python",
   "name": "python",
   "nbconvert_exporter": "python",
   "pygments_lexer": "ipython3",
   "version": "3.10.9"
  }
 },
 "nbformat": 4,
 "nbformat_minor": 5
}
